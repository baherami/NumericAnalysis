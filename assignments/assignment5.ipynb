{
 "cells": [
  {
   "cell_type": "markdown",
   "metadata": {},
   "source": [
    "# Assignment 05\n",
    " \n",
    " Introduction to Numerical Problem Solving, Spring 2017\n",
    " \n",
    " 24.3.2017, Ali Bahrami\n",
    " \n",
    " Helsinki Metropolia University of Applied Sciences"
   ]
  },
  {
   "cell_type": "markdown",
   "metadata": {},
   "source": [
    "### General import for the exercises "
   ]
  },
  {
   "cell_type": "code",
   "execution_count": 50,
   "metadata": {
    "collapsed": true
   },
   "outputs": [],
   "source": [
    "%matplotlib notebook\n",
    "import matplotlib.pyplot as plt\n",
    "import numpy as np\n",
    "from matplotlib.pyplot import *\n",
    "from numpy import *\n",
    "from pprint import pprint\n",
    "from scipy.linalg import lu_factor, lu_solve, lu, solve,inv, det\n",
    "from copy import copy, deepcopy"
   ]
  },
  {
   "cell_type": "markdown",
   "metadata": {},
   "source": [
    "## 3.\n",
    "The import for using the functions is done above.  Now we try to solve matrix."
   ]
  },
  {
   "cell_type": "code",
   "execution_count": 14,
   "metadata": {
    "collapsed": false
   },
   "outputs": [
    {
     "name": "stdout",
     "output_type": "stream",
     "text": [
      "L value based on results from lu_factor function:\n",
      "array([[ 1.        ,  0.        ,  0.        ],\n",
      "       [ 0.5       ,  1.        ,  0.        ],\n",
      "       [ 0.5       ,  0.69230769,  1.        ]])\n",
      "L value based on results from lu function:\n",
      "array([[ 1.        ,  0.        ,  0.        ],\n",
      "       [ 0.5       ,  1.        ,  0.        ],\n",
      "       [ 0.5       ,  0.69230769,  1.        ]])\n",
      "U value based on results from lu_factor function:\n",
      "array([[ 2.        , -1.        ,  2.        ],\n",
      "       [ 0.        ,  6.5       , -2.        ],\n",
      "       [ 0.        ,  0.        ,  1.38461538]])\n",
      "U value based on results from lu function:\n",
      "array([[ 2.        , -1.        ,  2.        ],\n",
      "       [ 0.        ,  6.5       , -2.        ],\n",
      "       [ 0.        ,  0.        ,  1.38461538]])\n",
      "A is: \n",
      "array([[ 1,  4,  1],\n",
      "       [ 1,  6, -1],\n",
      "       [ 2, -1,  2]])\n",
      "Solution based on solve and lu functions of scipy:\n",
      "array([ 5.,  1., -2.])\n",
      "Solution based on lu_solve and lu_factor functions of scipy:\n",
      "array([ 5.,  1., -2.])\n"
     ]
    }
   ],
   "source": [
    "\n",
    "\n",
    "A= array([1,4,1,1,6,-1,2,-1,2]).reshape(3,3)\n",
    "b=array([7,13,5])\n",
    "TL=array([0,0,0,1,0,0,1,1,0]).reshape(3,3)\n",
    "LUP=array([1,0,0,0,1,0,0,0,1]).reshape(3,3)\n",
    "TU=array([1,1,1,0,1,1,0,0,1]).reshape(3,3)\n",
    "\n",
    "LU=lu_factor(A)\n",
    "X=lu_solve(LU,b) \n",
    "L=TL*LU[0]+LUP\n",
    "U=TU*LU[0]\n",
    "\n",
    "P2, L2, U2=lu(A)\n",
    "y=solve(dot(P2,L2),b)\n",
    "x=solve(U2,y)\n",
    "print(\"L value based on results from lu_factor function:\")\n",
    "pprint(L)\n",
    "print(\"L value based on results from lu function:\")\n",
    "pprint(L2)\n",
    "print(\"U value based on results from lu_factor function:\")\n",
    "pprint(U)\n",
    "print(\"U value based on results from lu function:\")\n",
    "pprint(U2)\n",
    "print(\"A is: \")\n",
    "pprint(A)\n",
    "print(\"Solution based on solve and lu functions of scipy:\")\n",
    "pprint(x)\n",
    "print(\"Solution based on lu_solve and lu_factor functions of scipy:\")\n",
    "pprint(X)\n",
    "\n",
    "\n"
   ]
  },
  {
   "cell_type": "markdown",
   "metadata": {
    "collapsed": false
   },
   "source": [
    "### 5.\n",
    "For invertion we define a simple function.\n"
   ]
  },
  {
   "cell_type": "code",
   "execution_count": 15,
   "metadata": {
    "collapsed": false
   },
   "outputs": [
    {
     "name": "stdout",
     "output_type": "stream",
     "text": [
      "Determinant A is  15.999999999999991\n",
      "Determinant B is  2.9187763317395335e-13\n",
      "Epsilon is 2.22044604925e-16\n",
      "I calculation for A\n",
      "array([[ 1.,  0.,  0.,  0.],\n",
      "       [ 0.,  1.,  0., -0.],\n",
      "       [ 0.,  0.,  1., -0.],\n",
      "       [-0.,  0.,  0.,  1.]])\n",
      "I calculation for B\n",
      "array([[  2.5 ,   0.25,  -1.  ,  -1.  ,   2.5 ],\n",
      "       [ -2.  ,   4.  , -12.  , -12.  ,   6.  ],\n",
      "       [  2.  ,   0.  ,   0.  ,   0.  ,   2.  ],\n",
      "       [  0.  ,   0.  ,   0.  ,   1.  ,   0.  ],\n",
      "       [  2.  ,   0.  ,   0.  ,  -4.  ,   2.  ]])\n"
     ]
    }
   ],
   "source": [
    "def invert_matrix1(A):\n",
    "    return inv(A)\n",
    "\n",
    "\n",
    "A=np.array([\n",
    "        [5,-3,-1,0],\n",
    "        [-2,1,1,1],\n",
    "        [3,-5,1,2],\n",
    "        [0,8,-4,-3.0]\n",
    "        ])\n",
    "B=np.array([\n",
    "        [1,3,-9,6,4],\n",
    "        [2,-1,6,7,1],\n",
    "        [3,2,-3,15,5],\n",
    "        [8,-1,1,4,2],\n",
    "        [11,1,-2,18,7.0]\n",
    "        ])\n",
    "\n",
    "A_inverse=(invert_matrix1(A))\n",
    "B_inverse=(invert_matrix1(B))\n",
    "print(\"Determinant A is \",det(A))\n",
    "print(\"Determinant B is \",det(B))\n",
    "print(\"Epsilon is\",np.finfo(float).eps)\n",
    "print(\"I calculation for A\")\n",
    "pprint(around(A_inverse.dot(A),8))\n",
    "print(\"I calculation for B\")\n",
    "pprint(around(B_inverse.dot(B),8))\n"
   ]
  },
  {
   "cell_type": "markdown",
   "metadata": {},
   "source": [
    "### Why the calculation is not correct?\n",
    "The determinant of matrix B is zero, therfore such a matrix should not be invertible. However, the determinant of B is not exactly equal to zero, as the determinant is calculated by float binary pointing system. The result is close to system's epsilon. Therfore the method which uses numpy inv function, will calculate the inversion. To solve this problem the following condition should be added."
   ]
  },
  {
   "cell_type": "code",
   "execution_count": 9,
   "metadata": {
    "collapsed": false
   },
   "outputs": [
    {
     "name": "stdout",
     "output_type": "stream",
     "text": [
      "B is not invertible\n"
     ]
    }
   ],
   "source": [
    "if linalg.cond(B) < 1/sys.float_info.epsilon:\n",
    "    I = linalg.inv(B)\n",
    "else:\n",
    "    print(\"B is not invertible\")\n"
   ]
  },
  {
   "cell_type": "markdown",
   "metadata": {},
   "source": [
    "### Better Solution\n",
    "What happens in the code is that we compute the condition of matrix before calculating inversion. As a result the correct calculation should be as follows.\n"
   ]
  },
  {
   "cell_type": "code",
   "execution_count": 16,
   "metadata": {
    "collapsed": false
   },
   "outputs": [
    {
     "name": "stdout",
     "output_type": "stream",
     "text": [
      "For A\n",
      "array([[ 5., -3., -1.,  0.],\n",
      "       [-2.,  1.,  1.,  1.],\n",
      "       [ 3., -5.,  1.,  2.],\n",
      "       [ 0.,  8., -4., -3.]])\n",
      "And for B\n",
      "array([[  1.,   3.,  -9.,   6.,   4.],\n",
      "       [  2.,  -1.,   6.,   7.,   1.],\n",
      "       [  3.,   2.,  -3.,  15.,   5.],\n",
      "       [  8.,  -1.,   1.,   4.,   2.],\n",
      "       [ 11.,   1.,  -2.,  18.,   7.]])\n",
      "Determinant A is  15.999999999999991\n",
      "I for A is\n",
      "array([[ 1.,  0.,  0.,  0.],\n",
      "       [ 0.,  1.,  0., -0.],\n",
      "       [ 0.,  0.,  1., -0.],\n",
      "       [-0.,  0.,  0.,  1.]])\n",
      "B is not invertible\n"
     ]
    }
   ],
   "source": [
    "def invert_matrix1(A):\n",
    "    return inv(A)\n",
    "def valid_matrix1(A):\n",
    "    if linalg.cond(A) < 1/sys.float_info.epsilon :\n",
    "        return True\n",
    "    else:\n",
    "        return False\n",
    "\n",
    "A=np.array([\n",
    "        [5,-3,-1,0],\n",
    "        [-2,1,1,1],\n",
    "        [3,-5,1,2],\n",
    "        [0,8,-4,-3.0]\n",
    "        ])\n",
    "B=np.array([\n",
    "        [1,3,-9,6,4],\n",
    "        [2,-1,6,7,1],\n",
    "        [3,2,-3,15,5],\n",
    "        [8,-1,1,4,2],\n",
    "        [11,1,-2,18,7.0]\n",
    "        ])\n",
    "print(\"For A\")\n",
    "pprint(A)\n",
    "print(\"And for B\")\n",
    "pprint(B)\n",
    "\n",
    "if(valid_matrix1(A)):\n",
    "    A_inverse=(invert_matrix1(A))\n",
    "    print(\"Determinant A is \",det(A))\n",
    "    print(\"I for A is\")\n",
    "    pprint(around(A_inverse.dot(A),8))    \n",
    "else:\n",
    "    print(\"A is not invertible\")\n",
    "\n",
    "if(valid_matrix1(B)):\n",
    "    B_inverse=(invert_matrix1(B))\n",
    "    print(\"Determinant B is \",det(B))\n",
    "    print(\"I for B is\")\n",
    "    pprint(around(B_inverse.dot(B),8))\n",
    "else:\n",
    "    print(\"B is not invertible\")\n"
   ]
  },
  {
   "cell_type": "markdown",
   "metadata": {},
   "source": [
    "### 9.\n",
    "We define a function for calculating the solution of Ax=b based on gaussSeidel with weights.\n"
   ]
  },
  {
   "cell_type": "code",
   "execution_count": 110,
   "metadata": {
    "collapsed": false
   },
   "outputs": [],
   "source": [
    "from decimal import *\n",
    "\n",
    "def gaussSeidel(A, b,w,maxiteration):\n",
    "    n = len(b)\n",
    "    x0 = array([0, 0, 0,0.0])\n",
    "    x0=np.around(x0,decimals=2)\n",
    "    eps=sys.float_info.epsilon\n",
    "    solved=False\n",
    "    for i in range(n):\n",
    "        x0[i]=b[i]/A[i,i]\n",
    "    x = deepcopy(x0)\n",
    "    xold=deepcopy(x0)\n",
    "    xoldest=copy(x0)\n",
    "        \n",
    "    for k in range(maxiteration):\n",
    "        xoldest = deepcopy(xold)\n",
    "        xold = deepcopy(x)\n",
    "        for i in range(n):\n",
    "            s = 0\n",
    "            for j in range(n):\n",
    "                if j != i:\n",
    "                    s = s + A[i, j]*x[j]\n",
    "            x[i] = w/A[i, i]*(b[i] - s)+ (1-w)*x[i-1]\n",
    "        #if(abs((xold-x).all())<eps):\n",
    "        #    solved=True\n",
    "        #    break\n",
    "        #print(abs(xoldest-xold).any())   \n",
    "        #elif ((xoldest-xold).any()>threshold):\n",
    "         #   print(\"out\")\n",
    "    if(not solved):\n",
    "        print(\"not enumerated enough\")\n",
    "    print(k,\"Xpldes {:0.30f}\".format(xoldest[0]))\n",
    "    print(k,\"xOLD   {:0.30f}\".format(xold[0]))\n",
    "        \n",
    "    return x"
   ]
  },
  {
   "cell_type": "code",
   "execution_count": 112,
   "metadata": {
    "collapsed": false,
    "scrolled": true
   },
   "outputs": [
    {
     "name": "stdout",
     "output_type": "stream",
     "text": [
      "not enumerated enough\n",
      "99 Xpldes 5.000000000000000000000000000000\n",
      "99 xOLD   5.000000000000000000000000000000\n",
      "x based on gaussSeidel  [ 5.  5.  5.  5.]\n",
      "x based on lu_solve [ 5.  5.  5.  5.]\n",
      "A [[ 4. -1.  0.  0.]\n",
      " [-1.  4. -1.  0.]\n",
      " [ 0. -1.  4. -1.]\n",
      " [ 0.  0. -1.  3.]]\n",
      "b [ 15.  10.  10.  10.]\n",
      "Ax-b= [ 0.  0.  0.  0.]\n"
     ]
    }
   ],
   "source": [
    "A = array([4, -1, 0, 0, -1, 4, -1, 0, 0,-1,4,-1,0,0,-1,3.0]).reshape(4, 4)\n",
    "#A = np.around(A,decimals=2)\n",
    "b = array([15, 10, 10,10.0])\n",
    "#b= np.around(b,decimals=2)\n",
    "maxiter=100\n",
    "w=1.10\n",
    "x=gaussSeidel(A,b,w,maxiter)\n",
    "\n",
    "LU=lu_factor(A)\n",
    "X=lu_solve(LU,b) \n",
    "#x=np.around(x,decimals=2)\n",
    "print(\"x based on gaussSeidel \",x)\n",
    "print(\"x based on lu_solve\",X)\n",
    "\n",
    "print(\"A\",A)\n",
    "print(\"b\",b)\n",
    "\n",
    "print(\"Ax-b=\",A.dot(x)-b)"
   ]
  },
  {
   "cell_type": "markdown",
   "metadata": {
    "collapsed": true
   },
   "source": [
    "### Note\n",
    "The formula 2.35 in the course is not correct. \n",
    "The correct relaxation is calculated by  x[i]= w/( formula2.34 )+ (1-w) * x[i-1]"
   ]
  },
  {
   "cell_type": "code",
   "execution_count": null,
   "metadata": {
    "collapsed": true
   },
   "outputs": [],
   "source": []
  }
 ],
 "metadata": {
  "kernelspec": {
   "display_name": "Python 3",
   "language": "python",
   "name": "python3"
  },
  "language_info": {
   "codemirror_mode": {
    "name": "ipython",
    "version": 3
   },
   "file_extension": ".py",
   "mimetype": "text/x-python",
   "name": "python",
   "nbconvert_exporter": "python",
   "pygments_lexer": "ipython3",
   "version": "3.6.0"
  }
 },
 "nbformat": 4,
 "nbformat_minor": 2
}
