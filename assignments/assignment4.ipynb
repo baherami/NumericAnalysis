{
 "cells": [
  {
   "cell_type": "markdown",
   "metadata": {},
   "source": [
    "# Assignment 04\n",
    " \n",
    " Introduction to Numerical Problem Solving, Spring 2017\n",
    " \n",
    " 1.3.2017, Ali Bahrami\n",
    " \n",
    " Helsinki Metropolia University of Applied Sciences"
   ]
  },
  {
   "cell_type": "markdown",
   "metadata": {},
   "source": [
    "## Exercise 4, Problem 4\n",
    "\n",
    "### Solution\n",
    "\n",
    "First we implement out GaussianPivott funtion :\n",
    "\n"
   ]
  },
  {
   "cell_type": "code",
   "execution_count": 18,
   "metadata": {
    "collapsed": false
   },
   "outputs": [],
   "source": [
    "%matplotlib notebook\n",
    "import matplotlib.pyplot as plt\n",
    "import numpy as np\n",
    "from matplotlib.pyplot import *\n",
    "from numpy import *\n",
    "from scipy.misc import factorial\n",
    "from numpy.linalg import inv,det"
   ]
  },
  {
   "cell_type": "code",
   "execution_count": 33,
   "metadata": {
    "collapsed": false
   },
   "outputs": [],
   "source": [
    "def GaussianPivott(A,b):\n",
    "    A=A.copy()\n",
    "    b=b.copy()\n",
    "    N=len(b)\n",
    "    x=zeros(N)\n",
    "    \n",
    "    for k in range(0, N-1):\n",
    "        r=argmax(abs(A[k:,k]))+k\n",
    "        if(r!=k):\n",
    "            temp = A[k, :].copy()\n",
    "            A[k, :] = A[r, :]\n",
    "            A[r, :] = temp\n",
    "            \n",
    "            temp=b[k].copy()\n",
    "            b[k]=b[r]\n",
    "            b[r]=temp\n",
    "        \n",
    "        for i in range (k+1, N):\n",
    "            factor =A[i,k]/A[k,k]\n",
    "            for j in range(0,N):\n",
    "                A[i,j] = A[i,j] - factor*A[k,j]\n",
    "            b[i] = b[i] -factor*b[k]\n",
    "    for i in range (N-1,-1,-1):\n",
    "        s=b[i]\n",
    "        for j in range(i+1,N):\n",
    "            s=s-A[i,j]*x[j]\n",
    "        x[i]=s/A[i,i]\n",
    "    \n",
    "    return (x)"
   ]
  },
  {
   "cell_type": "markdown",
   "metadata": {
    "collapsed": true
   },
   "source": [
    "Now using this function we try to calculate all xs with this function and compare it with the dot product. Then we substitute the values in the equations. "
   ]
  },
  {
   "cell_type": "code",
   "execution_count": 42,
   "metadata": {
    "collapsed": false
   },
   "outputs": [
    {
     "name": "stdout",
     "output_type": "stream",
     "text": [
      "Expected value is 27.0 for equation one, calculated value is  27.0\n",
      "Expected value is -61.5 for equation two, calculated value is  -61.5\n",
      "Expected value is -21.5 for equation three, calculated value is  -21.5\n",
      "x values based onn Gaussian method [ 0.5  8.  -6. ]\n",
      "x values based on inverse matrix calculation [ 0.5  8.  -6. ]\n"
     ]
    }
   ],
   "source": [
    "A=array([[10.0,2.0,-1.0],[-3.0,-6.0,2.0],[1.0,1.0,5.0]])\n",
    "b=array([27.0,-61.5,-21.5])\n",
    "\n",
    "x=GaussianPivott(A,b)\n",
    "x_with_inv=dot(inv(A),b)\n",
    "\n",
    "y1=10.0*x[0]+2.0*x[1]-x[2]\n",
    "y2=-3.0*x[0]-6.0*x[1]+2.0*x[2]\n",
    "y3=x[0]+x[1]+5.0*x[2]\n",
    "\n",
    "print(\"Expected value is 27.0 for equation one, calculated value is \", y1)\n",
    "print(\"Expected value is -61.5 for equation two, calculated value is \", y2)\n",
    "print(\"Expected value is -21.5 for equation three, calculated value is \", y3)\n",
    "\n",
    "print(\"x values based onn Gaussian method \",x)\n",
    "print(\"x values based on inverse matrix calculation\",x_with_inv)\n"
   ]
  },
  {
   "cell_type": "markdown",
   "metadata": {},
   "source": [
    "## Exercise 4, Problem 6\n",
    "\n",
    "### Solution\n",
    "\n",
    "Using out implementation of GaussianPivott funtion, we introduce A and b. Then we compare the values with other solutuin using inverse of A and dot product:\n",
    "\n"
   ]
  },
  {
   "cell_type": "code",
   "execution_count": 44,
   "metadata": {
    "collapsed": false
   },
   "outputs": [
    {
     "name": "stdout",
     "output_type": "stream",
     "text": [
      "x values based onn Gaussian method  [ 2. -2.  1.  1. -1.]\n",
      "x values based on inverse matrix calculation [ 2. -2.  1.  1. -1.]\n"
     ]
    }
   ],
   "source": [
    "A=array([[0.0,0.0,2.0,1.0,2.0],[0.0,1.0,0.0,2.0,-1.0],\n",
    "   [1.0,2.0,0.0,-2.0,0.0],[0.0,0.0,0.0,-1.0,1.0],[0.0,1.0,-1.0,1.0,-1.0]])\n",
    "b=array([1.0,1.0,-4.0,-2.0,-1.0])\n",
    "\n",
    "x=GaussianPivott(A,b)\n",
    "x_with_inv=dot(inv(A),b)\n",
    "print(\"x values based onn Gaussian method \",x)\n",
    "print(\"x values based on inverse matrix calculation\",x_with_inv)"
   ]
  },
  {
   "cell_type": "code",
   "execution_count": null,
   "metadata": {
    "collapsed": true
   },
   "outputs": [],
   "source": []
  }
 ],
 "metadata": {
  "kernelspec": {
   "display_name": "Python 3",
   "language": "python",
   "name": "python3"
  },
  "language_info": {
   "codemirror_mode": {
    "name": "ipython",
    "version": 3
   },
   "file_extension": ".py",
   "mimetype": "text/x-python",
   "name": "python",
   "nbconvert_exporter": "python",
   "pygments_lexer": "ipython3",
   "version": "3.6.0"
  }
 },
 "nbformat": 4,
 "nbformat_minor": 2
}
