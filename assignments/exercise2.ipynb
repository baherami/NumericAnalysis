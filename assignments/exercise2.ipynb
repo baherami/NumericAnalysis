{
 "cells": [
  {
   "cell_type": "markdown",
   "metadata": {},
   "source": [
    "# Introduction to Numerical Problem Solving \n",
    "## Exercise 02\n",
    "### Approximations and round-off errors   \n",
    "\n",
    "Ali Bahrami\n",
    "\n",
    "31.1.2017\n",
    "***"
   ]
  },
  {
   "cell_type": "markdown",
   "metadata": {},
   "source": [
    "##### Problem\n",
    "##### Modify your code to calculate the smallest number xmin, that differs from zero.\n",
    "\n",
    "##### Solution\n",
    ">The calculation of the smallest number which differs from zero in binary floating point, is shown in the following program. The main difference in the calculation is the fact that when the minimum value of xmin is smaller than the smallest number, it will be assumed as zero by the last devision before comparison, therefore the value should be saved in another variable before the devision happens.\n"
   ]
  },
  {
   "cell_type": "code",
   "execution_count": 1,
   "metadata": {
    "collapsed": true
   },
   "outputs": [],
   "source": [
    "%matplotlib notebook\n",
    "import matplotlib.pyplot as plt\n",
    "import numpy as np\n",
    "from matplotlib.pyplot import *\n",
    "from numpy import *"
   ]
  },
  {
   "cell_type": "code",
   "execution_count": null,
   "metadata": {
    "collapsed": false
   },
   "outputs": [
    {
     "data": {
      "text/plain": [
       "5e-324"
      ]
     },
     "execution_count": 2,
     "metadata": {},
     "output_type": "execute_result"
    }
   ],
   "source": [
    "xmin=1.0\n",
    "studypoint=0.0\n",
    "while xmin+studypoint > studypoint:\n",
    "    result=xmin\n",
    "    xmin=xmin/2\n",
    "result"
   ]
  },
  {
   "cell_type": "markdown",
   "metadata": {},
   "source": [
    "***\n",
    "##### Problem\n",
    "##### How does the (epsilon) change, when you increase or decrease the study point (e.g. 1.0 or 0.0 in the previous exercise)? What is the relationship of the study point and epsilon? Use values that differ several decades.\n",
    "\n",
    "##### Solution\n",
    "> Epsilon value increases as the study point increases. The binary float value of a study point has more valid bits for greater numbers.\n"
   ]
  },
  {
   "cell_type": "code",
   "execution_count": null,
   "metadata": {
    "collapsed": false
   },
   "outputs": [
    {
     "name": "stdout",
     "output_type": "stream",
     "text": [
      "For startingpoint: 0  the epsilon is 5e-324\n",
      "For startingpoint: 2  the epsilon is 4.440892098500626e-16\n",
      "For startingpoint: 4  the epsilon is 8.881784197001252e-16\n",
      "For startingpoint: 8  the epsilon is 1.7763568394002505e-15\n",
      "For startingpoint: 16  the epsilon is 3.552713678800501e-15\n",
      "For startingpoint: 32  the epsilon is 7.105427357601002e-15\n",
      "For startingpoint: 64  the epsilon is 1.4210854715202004e-14\n",
      "For startingpoint: 128  the epsilon is 2.842170943040401e-14\n",
      "For startingpoint: 256  the epsilon is 5.684341886080802e-14\n",
      "For startingpoint: 512  the epsilon is 1.1368683772161603e-13\n",
      "For startingpoint: 1024  the epsilon is 2.2737367544323206e-13\n",
      "For startingpoint: 2048  the epsilon is 4.547473508864641e-13\n",
      "For startingpoint: 4096  the epsilon is 9.094947017729282e-13\n",
      "For startingpoint: 8192  the epsilon is 1.8189894035458565e-12\n",
      "For startingpoint: 16384  the epsilon is 3.637978807091713e-12\n",
      "For startingpoint: 32768  the epsilon is 7.275957614183426e-12\n",
      "For startingpoint: 65536  the epsilon is 1.4551915228366852e-11\n",
      "For startingpoint: 131072  the epsilon is 2.9103830456733704e-11\n",
      "For startingpoint: 262144  the epsilon is 5.820766091346741e-11\n"
     ]
    }
   ],
   "source": [
    "epsilon=1.0\n",
    "epsilons=[]\n",
    "poweredlevel=1\n",
    "studystart=0\n",
    "studyend=1000000\n",
    "for studypoint in range(studystart,studyend):\n",
    "    while epsilon+studypoint> studypoint:\n",
    "        result=epsilon\n",
    "        epsilon=epsilon/2\n",
    "    epsilons.append(result)\n",
    "    \n",
    "    if(studypoint%poweredlevel==0):\n",
    "        print(\"For startingpoint:\",studypoint,\" the epsilon is\" ,result)\n",
    "        poweredlevel=2*poweredlevel\n",
    "    epsilon=1.0\n",
    "    "
   ]
  },
  {
   "cell_type": "markdown",
   "metadata": {},
   "source": [
    ">The results show a significant grow in epsilon as the study point's value rises. \n",
    "As the value of the study point becomes bigger, the number of digits left behind \n",
    "zero are less. Hence a greater epsilon."
   ]
  },
  {
   "cell_type": "markdown",
   "metadata": {},
   "source": [
    "***"
   ]
  },
  {
   "cell_type": "markdown",
   "metadata": {},
   "source": [
    "\n",
    "##### Problem\n",
    "##### The derivative of f(x) = 1/(1-3x^2) is given by f(x) = 6x/(1-3x^2)^2 Do you expect to have difficulties evaluating this function at x = 0.577? How does the value of the derivative change when you increase the significant figures in your calculations.\n",
    "\n",
    "##### Solution: \n",
    ">When x=0.577 without decimal precision the value of x contains bits that will effect the calculation of the derivative. According to Python documentation decimal numbers can be presented exactly.\n",
    "The value of derivative is more accurate by increasing the precision as the rounded least significant is replaced by its exact value. \n",
    "In the following program a function is used to calculate the derivative value of x. First,x is shown with binary floating value and then it is shown with decimal floating precision. \n"
   ]
  },
  {
   "cell_type": "code",
   "execution_count": null,
   "metadata": {
    "collapsed": false
   },
   "outputs": [],
   "source": [
    "from decimal import *\n",
    "\n",
    "#derivative function\n",
    "def fperim( x ):\n",
    "    \"Calculating the derivative of 1/(1-3x^2)\"\n",
    "    return (6*x)/(1-(3*(x**2)))**2\n",
    "x=0.577\n",
    "print (\"Result for x=0.577 without precision =\",fperim(x))\n",
    "for precision in range(3,17):\n",
    "    getcontext().prec=precision\n",
    "    x=Decimal('0.577')\n",
    "    print(\"For precision of \",precision,\"digits the derivative value is\",fperim(x))\n"
   ]
  },
  {
   "cell_type": "code",
   "execution_count": null,
   "metadata": {
    "collapsed": true
   },
   "outputs": [],
   "source": []
  },
  {
   "cell_type": "code",
   "execution_count": null,
   "metadata": {
    "collapsed": true
   },
   "outputs": [],
   "source": []
  }
 ],
 "metadata": {
  "anaconda-cloud": {},
  "kernelspec": {
   "display_name": "Python [default]",
   "language": "python",
   "name": "python3"
  },
  "language_info": {
   "codemirror_mode": {
    "name": "ipython",
    "version": 3
   },
   "file_extension": ".py",
   "mimetype": "text/x-python",
   "name": "python",
   "nbconvert_exporter": "python",
   "pygments_lexer": "ipython3",
   "version": "3.5.2"
  }
 },
 "nbformat": 4,
 "nbformat_minor": 1
}
